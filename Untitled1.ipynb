{
 "cells": [
  {
   "cell_type": "code",
   "execution_count": 2,
   "id": "6f73b367",
   "metadata": {},
   "outputs": [
    {
     "name": "stdout",
     "output_type": "stream",
     "text": [
      "Filenames have been written to C:\\Users\\Kevin\\Downloads\\output_filenames.csv.\n"
     ]
    }
   ],
   "source": [
    "import os\n",
    "import csv\n",
    "\n",
    "# Define the folder path\n",
    "folder_path = r'C:\\Users\\Kevin\\Downloads\\ketakitamhankar_2299385460297370\\photos'  # Replace with the path to your folder\n",
    "output_csv = r'C:\\Users\\Kevin\\Downloads\\output_filenames.csv'  # The name of the CSV file to write the filenames to\n",
    "\n",
    "# Open a new CSV file to write the filenames\n",
    "with open(output_csv, mode='w', newline='') as csv_file:\n",
    "    writer = csv.writer(csv_file)\n",
    "    \n",
    "    # Write header\n",
    "    writer.writerow(['Filename'])\n",
    "    \n",
    "    # Iterate over all files in the folder\n",
    "    for filename in os.listdir(folder_path):\n",
    "        if os.path.isfile(os.path.join(folder_path, filename)):  # Check if it's a file\n",
    "            # Write the filename to the CSV\n",
    "            writer.writerow([filename])\n",
    "\n",
    "print(f\"Filenames have been written to {output_csv}.\")\n"
   ]
  }
 ],
 "metadata": {
  "kernelspec": {
   "display_name": "Python 3 (ipykernel)",
   "language": "python",
   "name": "python3"
  },
  "language_info": {
   "codemirror_mode": {
    "name": "ipython",
    "version": 3
   },
   "file_extension": ".py",
   "mimetype": "text/x-python",
   "name": "python",
   "nbconvert_exporter": "python",
   "pygments_lexer": "ipython3",
   "version": "3.10.6"
  }
 },
 "nbformat": 4,
 "nbformat_minor": 5
}
